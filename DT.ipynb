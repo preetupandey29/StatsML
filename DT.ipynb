{
 "cells": [
  {
   "cell_type": "code",
   "execution_count": 1,
   "metadata": {},
   "outputs": [],
   "source": [
    "import numpy as np\n",
    "import pandas as pd\n",
    "import seaborn as sns\n",
    "from sklearn.linear_model import LogisticRegression\n",
    "from sklearn.metrics import accuracy_score\n",
    "from sklearn.model_selection import train_test_split"
   ]
  },
  {
   "cell_type": "code",
   "execution_count": 4,
   "metadata": {},
   "outputs": [],
   "source": [
    "#Read the data\n",
    "data=pd.read_csv(\"diabetes - diab.csv\")"
   ]
  },
  {
   "cell_type": "code",
   "execution_count": 5,
   "metadata": {},
   "outputs": [
    {
     "data": {
      "text/html": [
       "<div>\n",
       "<style scoped>\n",
       "    .dataframe tbody tr th:only-of-type {\n",
       "        vertical-align: middle;\n",
       "    }\n",
       "\n",
       "    .dataframe tbody tr th {\n",
       "        vertical-align: top;\n",
       "    }\n",
       "\n",
       "    .dataframe thead th {\n",
       "        text-align: right;\n",
       "    }\n",
       "</style>\n",
       "<table border=\"1\" class=\"dataframe\">\n",
       "  <thead>\n",
       "    <tr style=\"text-align: right;\">\n",
       "      <th></th>\n",
       "      <th>BMI</th>\n",
       "      <th>Outcome</th>\n",
       "    </tr>\n",
       "  </thead>\n",
       "  <tbody>\n",
       "    <tr>\n",
       "      <th>0</th>\n",
       "      <td>33.6</td>\n",
       "      <td>1</td>\n",
       "    </tr>\n",
       "    <tr>\n",
       "      <th>1</th>\n",
       "      <td>26.6</td>\n",
       "      <td>0</td>\n",
       "    </tr>\n",
       "    <tr>\n",
       "      <th>2</th>\n",
       "      <td>23.3</td>\n",
       "      <td>1</td>\n",
       "    </tr>\n",
       "    <tr>\n",
       "      <th>3</th>\n",
       "      <td>28.1</td>\n",
       "      <td>0</td>\n",
       "    </tr>\n",
       "    <tr>\n",
       "      <th>4</th>\n",
       "      <td>43.1</td>\n",
       "      <td>1</td>\n",
       "    </tr>\n",
       "    <tr>\n",
       "      <th>...</th>\n",
       "      <td>...</td>\n",
       "      <td>...</td>\n",
       "    </tr>\n",
       "    <tr>\n",
       "      <th>763</th>\n",
       "      <td>32.9</td>\n",
       "      <td>0</td>\n",
       "    </tr>\n",
       "    <tr>\n",
       "      <th>764</th>\n",
       "      <td>36.8</td>\n",
       "      <td>0</td>\n",
       "    </tr>\n",
       "    <tr>\n",
       "      <th>765</th>\n",
       "      <td>26.2</td>\n",
       "      <td>0</td>\n",
       "    </tr>\n",
       "    <tr>\n",
       "      <th>766</th>\n",
       "      <td>30.1</td>\n",
       "      <td>1</td>\n",
       "    </tr>\n",
       "    <tr>\n",
       "      <th>767</th>\n",
       "      <td>30.4</td>\n",
       "      <td>0</td>\n",
       "    </tr>\n",
       "  </tbody>\n",
       "</table>\n",
       "<p>768 rows × 2 columns</p>\n",
       "</div>"
      ],
      "text/plain": [
       "      BMI  Outcome\n",
       "0    33.6        1\n",
       "1    26.6        0\n",
       "2    23.3        1\n",
       "3    28.1        0\n",
       "4    43.1        1\n",
       "..    ...      ...\n",
       "763  32.9        0\n",
       "764  36.8        0\n",
       "765  26.2        0\n",
       "766  30.1        1\n",
       "767  30.4        0\n",
       "\n",
       "[768 rows x 2 columns]"
      ]
     },
     "execution_count": 5,
     "metadata": {},
     "output_type": "execute_result"
    }
   ],
   "source": [
    "data"
   ]
  },
  {
   "cell_type": "code",
   "execution_count": 7,
   "metadata": {},
   "outputs": [],
   "source": [
    "x=data[[\"BMI\"]]\n",
    "y=data[[\"Outcome\"]]"
   ]
  },
  {
   "cell_type": "code",
   "execution_count": 31,
   "metadata": {},
   "outputs": [],
   "source": [
    "x_train,x_test,y_train,y_test=train_test_split(x,y,test_size=0.2)"
   ]
  },
  {
   "cell_type": "code",
   "execution_count": 33,
   "metadata": {},
   "outputs": [
    {
     "name": "stderr",
     "output_type": "stream",
     "text": [
      "c:\\Users\\Admin\\anaconda3\\Lib\\site-packages\\sklearn\\utils\\validation.py:1143: DataConversionWarning: A column-vector y was passed when a 1d array was expected. Please change the shape of y to (n_samples, ), for example using ravel().\n",
      "  y = column_or_1d(y, warn=True)\n"
     ]
    },
    {
     "data": {
      "text/html": [
       "<style>#sk-container-id-7 {color: black;background-color: white;}#sk-container-id-7 pre{padding: 0;}#sk-container-id-7 div.sk-toggleable {background-color: white;}#sk-container-id-7 label.sk-toggleable__label {cursor: pointer;display: block;width: 100%;margin-bottom: 0;padding: 0.3em;box-sizing: border-box;text-align: center;}#sk-container-id-7 label.sk-toggleable__label-arrow:before {content: \"▸\";float: left;margin-right: 0.25em;color: #696969;}#sk-container-id-7 label.sk-toggleable__label-arrow:hover:before {color: black;}#sk-container-id-7 div.sk-estimator:hover label.sk-toggleable__label-arrow:before {color: black;}#sk-container-id-7 div.sk-toggleable__content {max-height: 0;max-width: 0;overflow: hidden;text-align: left;background-color: #f0f8ff;}#sk-container-id-7 div.sk-toggleable__content pre {margin: 0.2em;color: black;border-radius: 0.25em;background-color: #f0f8ff;}#sk-container-id-7 input.sk-toggleable__control:checked~div.sk-toggleable__content {max-height: 200px;max-width: 100%;overflow: auto;}#sk-container-id-7 input.sk-toggleable__control:checked~label.sk-toggleable__label-arrow:before {content: \"▾\";}#sk-container-id-7 div.sk-estimator input.sk-toggleable__control:checked~label.sk-toggleable__label {background-color: #d4ebff;}#sk-container-id-7 div.sk-label input.sk-toggleable__control:checked~label.sk-toggleable__label {background-color: #d4ebff;}#sk-container-id-7 input.sk-hidden--visually {border: 0;clip: rect(1px 1px 1px 1px);clip: rect(1px, 1px, 1px, 1px);height: 1px;margin: -1px;overflow: hidden;padding: 0;position: absolute;width: 1px;}#sk-container-id-7 div.sk-estimator {font-family: monospace;background-color: #f0f8ff;border: 1px dotted black;border-radius: 0.25em;box-sizing: border-box;margin-bottom: 0.5em;}#sk-container-id-7 div.sk-estimator:hover {background-color: #d4ebff;}#sk-container-id-7 div.sk-parallel-item::after {content: \"\";width: 100%;border-bottom: 1px solid gray;flex-grow: 1;}#sk-container-id-7 div.sk-label:hover label.sk-toggleable__label {background-color: #d4ebff;}#sk-container-id-7 div.sk-serial::before {content: \"\";position: absolute;border-left: 1px solid gray;box-sizing: border-box;top: 0;bottom: 0;left: 50%;z-index: 0;}#sk-container-id-7 div.sk-serial {display: flex;flex-direction: column;align-items: center;background-color: white;padding-right: 0.2em;padding-left: 0.2em;position: relative;}#sk-container-id-7 div.sk-item {position: relative;z-index: 1;}#sk-container-id-7 div.sk-parallel {display: flex;align-items: stretch;justify-content: center;background-color: white;position: relative;}#sk-container-id-7 div.sk-item::before, #sk-container-id-7 div.sk-parallel-item::before {content: \"\";position: absolute;border-left: 1px solid gray;box-sizing: border-box;top: 0;bottom: 0;left: 50%;z-index: -1;}#sk-container-id-7 div.sk-parallel-item {display: flex;flex-direction: column;z-index: 1;position: relative;background-color: white;}#sk-container-id-7 div.sk-parallel-item:first-child::after {align-self: flex-end;width: 50%;}#sk-container-id-7 div.sk-parallel-item:last-child::after {align-self: flex-start;width: 50%;}#sk-container-id-7 div.sk-parallel-item:only-child::after {width: 0;}#sk-container-id-7 div.sk-dashed-wrapped {border: 1px dashed gray;margin: 0 0.4em 0.5em 0.4em;box-sizing: border-box;padding-bottom: 0.4em;background-color: white;}#sk-container-id-7 div.sk-label label {font-family: monospace;font-weight: bold;display: inline-block;line-height: 1.2em;}#sk-container-id-7 div.sk-label-container {text-align: center;}#sk-container-id-7 div.sk-container {/* jupyter's `normalize.less` sets `[hidden] { display: none; }` but bootstrap.min.css set `[hidden] { display: none !important; }` so we also need the `!important` here to be able to override the default hidden behavior on the sphinx rendered scikit-learn.org. See: https://github.com/scikit-learn/scikit-learn/issues/21755 */display: inline-block !important;position: relative;}#sk-container-id-7 div.sk-text-repr-fallback {display: none;}</style><div id=\"sk-container-id-7\" class=\"sk-top-container\"><div class=\"sk-text-repr-fallback\"><pre>LogisticRegression()</pre><b>In a Jupyter environment, please rerun this cell to show the HTML representation or trust the notebook. <br />On GitHub, the HTML representation is unable to render, please try loading this page with nbviewer.org.</b></div><div class=\"sk-container\" hidden><div class=\"sk-item\"><div class=\"sk-estimator sk-toggleable\"><input class=\"sk-toggleable__control sk-hidden--visually\" id=\"sk-estimator-id-7\" type=\"checkbox\" checked><label for=\"sk-estimator-id-7\" class=\"sk-toggleable__label sk-toggleable__label-arrow\">LogisticRegression</label><div class=\"sk-toggleable__content\"><pre>LogisticRegression()</pre></div></div></div></div></div>"
      ],
      "text/plain": [
       "LogisticRegression()"
      ]
     },
     "execution_count": 33,
     "metadata": {},
     "output_type": "execute_result"
    }
   ],
   "source": [
    "##Model creation\n",
    "model=LogisticRegression()\n",
    "model.fit(x_train,y_train)"
   ]
  },
  {
   "cell_type": "code",
   "execution_count": 34,
   "metadata": {},
   "outputs": [],
   "source": [
    "#Evaluating\n",
    "pred=model.predict(x_test)"
   ]
  },
  {
   "cell_type": "code",
   "execution_count": 37,
   "metadata": {},
   "outputs": [
    {
     "data": {
      "text/plain": [
       "(array([-3.66226785]), array([[0.09330015]]))"
      ]
     },
     "execution_count": 37,
     "metadata": {},
     "output_type": "execute_result"
    }
   ],
   "source": [
    "model.intercept_,model.coef_"
   ]
  },
  {
   "cell_type": "code",
   "execution_count": 40,
   "metadata": {},
   "outputs": [
    {
     "data": {
      "text/plain": [
       "array([[0.75826003, 0.24173997],\n",
       "       [0.33088629, 0.66911371],\n",
       "       [0.66299351, 0.33700649],\n",
       "       [0.75309239, 0.24690761],\n",
       "       [0.83075738, 0.16924262],\n",
       "       [0.66299351, 0.33700649],\n",
       "       [0.72985431, 0.27014569],\n",
       "       [0.65460491, 0.34539509],\n",
       "       [0.53846936, 0.46153064],\n",
       "       [0.50355792, 0.49644208],\n",
       "       [0.68753562, 0.31246438],\n",
       "       [0.76670777, 0.23329223],\n",
       "       [0.56385253, 0.43614747],\n",
       "       [0.40220433, 0.59779567],\n",
       "       [0.67946257, 0.32053743],\n",
       "       [0.84470155, 0.15529845],\n",
       "       [0.69549647, 0.30450353],\n",
       "       [0.59341537, 0.40658463],\n",
       "       [0.73351763, 0.26648237],\n",
       "       [0.6201212 , 0.3798788 ],\n",
       "       [0.74431605, 0.25568395],\n",
       "       [0.49656052, 0.50343948],\n",
       "       [0.69549647, 0.30450353],\n",
       "       [0.68753562, 0.31246438],\n",
       "       [0.50355792, 0.49644208],\n",
       "       [0.58211273, 0.41788727],\n",
       "       [0.2684031 , 0.7315969 ],\n",
       "       [0.39104093, 0.60895907],\n",
       "       [0.78769784, 0.21230216],\n",
       "       [0.66299351, 0.33700649],\n",
       "       [0.57984141, 0.42015859],\n",
       "       [0.62887247, 0.37112753],\n",
       "       [0.84347369, 0.15652631],\n",
       "       [0.2757944 , 0.7242056 ],\n",
       "       [0.61129112, 0.38870888],\n",
       "       [0.80288183, 0.19711817],\n",
       "       [0.67128067, 0.32871933],\n",
       "       [0.68552775, 0.31447225],\n",
       "       [0.49422822, 0.50577178],\n",
       "       [0.67946257, 0.32053743],\n",
       "       [0.57756671, 0.42243329],\n",
       "       [0.73351763, 0.26648237],\n",
       "       [0.5245308 , 0.4754692 ],\n",
       "       [0.58664485, 0.41335515],\n",
       "       [0.68552775, 0.31447225],\n",
       "       [0.61129112, 0.38870888],\n",
       "       [0.77818558, 0.22181442],\n",
       "       [0.29094898, 0.70905102],\n",
       "       [0.79690864, 0.20309136],\n",
       "       [0.70139159, 0.29860841],\n",
       "       [0.72801079, 0.27198921],\n",
       "       [0.81862128, 0.18137872],\n",
       "       [0.21869113, 0.78130887],\n",
       "       [0.48723323, 0.51276677],\n",
       "       [0.77657092, 0.22342908],\n",
       "       [0.71298244, 0.28701756],\n",
       "       [0.68753562, 0.31246438],\n",
       "       [0.80140107, 0.19859893],\n",
       "       [0.76335351, 0.23664649],\n",
       "       [0.46396798, 0.53603202],\n",
       "       [0.703342  , 0.296658  ],\n",
       "       [0.69549647, 0.30450353],\n",
       "       [0.67128067, 0.32871933],\n",
       "       [0.63538122, 0.36461878],\n",
       "       [0.22840665, 0.77159335],\n",
       "       [0.71106937, 0.28893063],\n",
       "       [0.49422822, 0.50577178],\n",
       "       [0.65460491, 0.34539509],\n",
       "       [0.46861175, 0.53138825],\n",
       "       [0.55003998, 0.44996002],\n",
       "       [0.7700288 , 0.2299712 ],\n",
       "       [0.37999042, 0.62000958],\n",
       "       [0.64824935, 0.35175065],\n",
       "       [0.43626399, 0.56373601],\n",
       "       [0.55465382, 0.44534618],\n",
       "       [0.66299351, 0.33700649],\n",
       "       [0.81583414, 0.18416586],\n",
       "       [0.47791482, 0.52208518],\n",
       "       [0.39996312, 0.60003688],\n",
       "       [0.57984141, 0.42015859],\n",
       "       [0.65671135, 0.34328865],\n",
       "       [0.48956447, 0.51043553],\n",
       "       [0.78613339, 0.21386661],\n",
       "       [0.70914875, 0.29085125],\n",
       "       [0.65460491, 0.34539509],\n",
       "       [0.97496844, 0.02503156],\n",
       "       [0.42939289, 0.57060711],\n",
       "       [0.70528503, 0.29471497],\n",
       "       [0.624507  , 0.375493  ],\n",
       "       [0.46164839, 0.53835161],\n",
       "       [0.60461994, 0.39538006],\n",
       "       [0.68351292, 0.31648708],\n",
       "       [0.6201212 , 0.3798788 ],\n",
       "       [0.76166395, 0.23833605],\n",
       "       [0.37779476, 0.62220524],\n",
       "       [0.87698732, 0.12301268],\n",
       "       [0.73533738, 0.26466262],\n",
       "       [0.66299351, 0.33700649],\n",
       "       [0.63753998, 0.36246002],\n",
       "       [0.7908016 , 0.2091984 ],\n",
       "       [0.7908016 , 0.2091984 ],\n",
       "       [0.55695726, 0.44304274],\n",
       "       [0.68149118, 0.31850882],\n",
       "       [0.66299351, 0.33700649],\n",
       "       [0.74431605, 0.25568395],\n",
       "       [0.74253641, 0.25746359],\n",
       "       [0.86329308, 0.13670692],\n",
       "       [0.49656052, 0.50343948],\n",
       "       [0.68552775, 0.31447225],\n",
       "       [0.81862128, 0.18137872],\n",
       "       [0.75135344, 0.24864656],\n",
       "       [0.703342  , 0.296658  ],\n",
       "       [0.82000249, 0.17999751],\n",
       "       [0.72985431, 0.27014569],\n",
       "       [0.63538122, 0.36461878],\n",
       "       [0.57984141, 0.42015859],\n",
       "       [0.81301395, 0.18698605],\n",
       "       [0.78456057, 0.21543943],\n",
       "       [0.71106937, 0.28893063],\n",
       "       [0.61571569, 0.38428431],\n",
       "       [0.62669232, 0.37330768],\n",
       "       [0.71106937, 0.28893063],\n",
       "       [0.53614985, 0.46385015],\n",
       "       [0.80581834, 0.19418166],\n",
       "       [0.58664485, 0.41335515],\n",
       "       [0.82409684, 0.17590316],\n",
       "       [0.60461994, 0.39538006],\n",
       "       [0.85655106, 0.14344894],\n",
       "       [0.7496063 , 0.2503937 ],\n",
       "       [0.70914875, 0.29085125],\n",
       "       [0.37999042, 0.62000958],\n",
       "       [0.72801079, 0.27198921],\n",
       "       [0.79690864, 0.20309136],\n",
       "       [0.71298244, 0.28701756],\n",
       "       [0.38882146, 0.61117854],\n",
       "       [0.71298244, 0.28701756],\n",
       "       [0.80288183, 0.19711817],\n",
       "       [0.77657092, 0.22342908],\n",
       "       [0.66507496, 0.33492504],\n",
       "       [0.70914875, 0.29085125],\n",
       "       [0.70139159, 0.29860841],\n",
       "       [0.78769784, 0.21230216],\n",
       "       [0.76503478, 0.23496522],\n",
       "       [0.48490254, 0.51509746],\n",
       "       [0.60015058, 0.39984942],\n",
       "       [0.74074871, 0.25925129],\n",
       "       [0.74785102, 0.25214898],\n",
       "       [0.82544524, 0.17455476],\n",
       "       [0.82811757, 0.17188243],\n",
       "       [0.44776913, 0.55223087],\n",
       "       [0.82944153, 0.17055847],\n",
       "       [0.71678577, 0.28321423],\n",
       "       [0.61571569, 0.38428431],\n",
       "       [0.78769784, 0.21230216]])"
      ]
     },
     "execution_count": 40,
     "metadata": {},
     "output_type": "execute_result"
    }
   ],
   "source": [
    "#probability of each data\n",
    "model.predict_proba(x_test)"
   ]
  },
  {
   "cell_type": "code",
   "execution_count": 35,
   "metadata": {},
   "outputs": [
    {
     "data": {
      "text/html": [
       "<div>\n",
       "<style scoped>\n",
       "    .dataframe tbody tr th:only-of-type {\n",
       "        vertical-align: middle;\n",
       "    }\n",
       "\n",
       "    .dataframe tbody tr th {\n",
       "        vertical-align: top;\n",
       "    }\n",
       "\n",
       "    .dataframe thead th {\n",
       "        text-align: right;\n",
       "    }\n",
       "</style>\n",
       "<table border=\"1\" class=\"dataframe\">\n",
       "  <thead>\n",
       "    <tr style=\"text-align: right;\">\n",
       "      <th></th>\n",
       "      <th>Outcome</th>\n",
       "    </tr>\n",
       "  </thead>\n",
       "  <tbody>\n",
       "    <tr>\n",
       "      <th>284</th>\n",
       "      <td>1</td>\n",
       "    </tr>\n",
       "    <tr>\n",
       "      <th>57</th>\n",
       "      <td>0</td>\n",
       "    </tr>\n",
       "    <tr>\n",
       "      <th>595</th>\n",
       "      <td>1</td>\n",
       "    </tr>\n",
       "    <tr>\n",
       "      <th>475</th>\n",
       "      <td>0</td>\n",
       "    </tr>\n",
       "    <tr>\n",
       "      <th>430</th>\n",
       "      <td>0</td>\n",
       "    </tr>\n",
       "    <tr>\n",
       "      <th>...</th>\n",
       "      <td>...</td>\n",
       "    </tr>\n",
       "    <tr>\n",
       "      <th>608</th>\n",
       "      <td>0</td>\n",
       "    </tr>\n",
       "    <tr>\n",
       "      <th>385</th>\n",
       "      <td>0</td>\n",
       "    </tr>\n",
       "    <tr>\n",
       "      <th>640</th>\n",
       "      <td>0</td>\n",
       "    </tr>\n",
       "    <tr>\n",
       "      <th>523</th>\n",
       "      <td>1</td>\n",
       "    </tr>\n",
       "    <tr>\n",
       "      <th>157</th>\n",
       "      <td>0</td>\n",
       "    </tr>\n",
       "  </tbody>\n",
       "</table>\n",
       "<p>154 rows × 1 columns</p>\n",
       "</div>"
      ],
      "text/plain": [
       "     Outcome\n",
       "284        1\n",
       "57         0\n",
       "595        1\n",
       "475        0\n",
       "430        0\n",
       "..       ...\n",
       "608        0\n",
       "385        0\n",
       "640        0\n",
       "523        1\n",
       "157        0\n",
       "\n",
       "[154 rows x 1 columns]"
      ]
     },
     "execution_count": 35,
     "metadata": {},
     "output_type": "execute_result"
    }
   ],
   "source": [
    "y_test"
   ]
  },
  {
   "cell_type": "code",
   "execution_count": 36,
   "metadata": {},
   "outputs": [
    {
     "data": {
      "text/plain": [
       "0.6753246753246753"
      ]
     },
     "execution_count": 36,
     "metadata": {},
     "output_type": "execute_result"
    }
   ],
   "source": [
    "accuracy_score(y_test,pred)"
   ]
  },
  {
   "cell_type": "code",
   "execution_count": null,
   "metadata": {},
   "outputs": [],
   "source": []
  }
 ],
 "metadata": {
  "kernelspec": {
   "display_name": "base",
   "language": "python",
   "name": "python3"
  },
  "language_info": {
   "codemirror_mode": {
    "name": "ipython",
    "version": 3
   },
   "file_extension": ".py",
   "mimetype": "text/x-python",
   "name": "python",
   "nbconvert_exporter": "python",
   "pygments_lexer": "ipython3",
   "version": "3.11.7"
  }
 },
 "nbformat": 4,
 "nbformat_minor": 2
}
